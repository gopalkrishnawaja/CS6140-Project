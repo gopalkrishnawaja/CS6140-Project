{
 "nbformat": 4,
 "nbformat_minor": 0,
 "metadata": {
  "colab": {
   "provenance": []
  },
  "kernelspec": {
   "display_name": "Python 3",
   "name": "python3"
  },
  "language_info": {
   "name": "python"
  }
 },
 "cells": [
  {
   "cell_type": "markdown",
   "metadata": {
    "id": "RwdDK7uEi7og"
   },
   "source": [
    "# URL Feature Extraction"
   ]
  },
  {
   "cell_type": "code",
   "metadata": {
    "id": "7YqhEiYaqgsV",
    "colab": {
     "base_uri": "https://localhost:8080/"
    },
    "cellView": "code",
    "outputId": "26335564-862d-4313-cec2-e266d44ce96e"
   },
   "source": [
    "pip install python-whois"
   ],
   "execution_count": null,
   "outputs": [
    {
     "output_type": "stream",
     "name": "stdout",
     "text": [
      "Collecting python-whois\n",
      "  Downloading python-whois-0.8.0.tar.gz (109 kB)\n",
      "\u001B[?25l     \u001B[90m━━━━━━━━━━━━━━━━━━━━━━━━━━━━━━━━━━━━━━━━\u001B[0m \u001B[32m0.0/109.6 kB\u001B[0m \u001B[31m?\u001B[0m eta \u001B[36m-:--:--\u001B[0m\r\u001B[2K     \u001B[91m━━━━━━━━━━━\u001B[0m\u001B[90m╺\u001B[0m\u001B[90m━━━━━━━━━━━━━━━━━━━━━━━━━━━━\u001B[0m \u001B[32m30.7/109.6 kB\u001B[0m \u001B[31m1.1 MB/s\u001B[0m eta \u001B[36m0:00:01\u001B[0m\r\u001B[2K     \u001B[90m━━━━━━━━━━━━━━━━━━━━━━━━━━━━━━━━━━━━━━━━\u001B[0m \u001B[32m109.6/109.6 kB\u001B[0m \u001B[31m1.8 MB/s\u001B[0m eta \u001B[36m0:00:00\u001B[0m\n",
      "\u001B[?25h  Preparing metadata (setup.py) ... \u001B[?25l\u001B[?25hdone\n",
      "Requirement already satisfied: future in /usr/local/lib/python3.10/dist-packages (from python-whois) (0.18.3)\n",
      "Building wheels for collected packages: python-whois\n",
      "  Building wheel for python-whois (setup.py) ... \u001B[?25l\u001B[?25hdone\n",
      "  Created wheel for python-whois: filename=python_whois-0.8.0-py3-none-any.whl size=103247 sha256=1ed6fb07f217256d82ab5dc6bd71762e8a2ee39d62cdb997cfdf8341615021c2\n",
      "  Stored in directory: /root/.cache/pip/wheels/10/f1/87/145023b9a206e2e948be6480c61ef3fd3dbb81ef11b6977782\n",
      "Successfully built python-whois\n",
      "Installing collected packages: python-whois\n",
      "Successfully installed python-whois-0.8.0\n"
     ]
    }
   ]
  },
  {
   "cell_type": "code",
   "source": [
    "pip install tqdm"
   ],
   "metadata": {
    "colab": {
     "base_uri": "https://localhost:8080/"
    },
    "id": "UjiWORDJaJM1",
    "outputId": "2f76eb67-c8d6-40a4-9b03-cbd64b127364"
   },
   "execution_count": null,
   "outputs": [
    {
     "output_type": "stream",
     "name": "stdout",
     "text": [
      "Requirement already satisfied: tqdm in /usr/local/lib/python3.10/dist-packages (4.66.1)\n"
     ]
    }
   ]
  },
  {
   "cell_type": "code",
   "metadata": {
    "id": "7XWzJn1RkPxk"
   },
   "source": [
    "import pickle\n",
    "import re\n",
    "import pandas as pd\n",
    "import requests\n",
    "import whois\n",
    "\n",
    "from collections import Counter\n",
    "from datetime import datetime\n",
    "from math import log\n",
    "from urllib.parse import urlparse\n",
    "from bs4 import BeautifulSoup\n",
    "from tqdm import tqdm"
   ],
   "execution_count": null,
   "outputs": []
  },
  {
   "cell_type": "markdown",
   "metadata": {
    "id": "mKT8h9L2j_g5"
   },
   "source": [
    "Importing Dataset"
   ]
  },
  {
   "cell_type": "code",
   "metadata": {
    "colab": {
     "base_uri": "https://localhost:8080/",
     "height": 309
    },
    "id": "64ggYPc99mSK",
    "outputId": "5bedece4-0380-4686-ce46-ff6df09d1c85"
   },
   "source": [
    "# importing required packages for this module\n",
    "# Run this code for each data source \n",
    "# i.e malwareOnline.csv, verified_phishing_online.csv and benignDMOZ.csv\n",
    "phish = pd.read_csv(\"RawDatasets/verified_phishing_online.csv\")\n",
    "phish.head()"
   ],
   "execution_count": null,
   "outputs": [
    {
     "output_type": "execute_result",
     "data": {
      "text/plain": [
       "        id       dateadded                                                url  \\\n",
       "0  2724907  10/24/23 16:19                  http://42.231.251.93:50898/Mozi.m   \n",
       "1  2724902  10/24/23 15:55  https://www.dropbox.com/scl/fi/y1zf9rt5n2guy0r...   \n",
       "2  2724903  10/24/23 15:55  https://www.dropbox.com/scl/fi/u008gv89ok6tj3u...   \n",
       "3  2724904  10/24/23 15:55  https://www.dropbox.com/scl/fi/96i5e2yrl5b383y...   \n",
       "4  2724905  10/24/23 15:55  https://www.dropbox.com/scl/fi/g362v2hcsb1kly2...   \n",
       "\n",
       "  url_status     last_online            threat      tags  \\\n",
       "0     online  10/24/23 16:19  malware_download  elf,Mozi   \n",
       "1     online  10/24/23 16:12  malware_download      None   \n",
       "2     online  10/24/23 16:13  malware_download      None   \n",
       "3     online  10/24/23 15:55  malware_download      None   \n",
       "4     online  10/24/23 15:55  malware_download      None   \n",
       "\n",
       "                            urlhaus_link     reporter  \n",
       "0  https://urlhaus.abuse.ch/url/2724907/  lrz_urlhaus  \n",
       "1  https://urlhaus.abuse.ch/url/2724902/    anonymous  \n",
       "2  https://urlhaus.abuse.ch/url/2724903/    anonymous  \n",
       "3  https://urlhaus.abuse.ch/url/2724904/    anonymous  \n",
       "4  https://urlhaus.abuse.ch/url/2724905/    anonymous  "
      ],
      "text/html": [
       "\n",
       "  <div id=\"df-0d736342-42df-42a0-be84-1490dc573992\" class=\"colab-df-container\">\n",
       "    <div>\n",
       "<style scoped>\n",
       "    .dataframe tbody tr th:only-of-type {\n",
       "        vertical-align: middle;\n",
       "    }\n",
       "\n",
       "    .dataframe tbody tr th {\n",
       "        vertical-align: top;\n",
       "    }\n",
       "\n",
       "    .dataframe thead th {\n",
       "        text-align: right;\n",
       "    }\n",
       "</style>\n",
       "<table border=\"1\" class=\"dataframe\">\n",
       "  <thead>\n",
       "    <tr style=\"text-align: right;\">\n",
       "      <th></th>\n",
       "      <th>id</th>\n",
       "      <th>dateadded</th>\n",
       "      <th>url</th>\n",
       "      <th>url_status</th>\n",
       "      <th>last_online</th>\n",
       "      <th>threat</th>\n",
       "      <th>tags</th>\n",
       "      <th>urlhaus_link</th>\n",
       "      <th>reporter</th>\n",
       "    </tr>\n",
       "  </thead>\n",
       "  <tbody>\n",
       "    <tr>\n",
       "      <th>0</th>\n",
       "      <td>2724907</td>\n",
       "      <td>10/24/23 16:19</td>\n",
       "      <td>http://42.231.251.93:50898/Mozi.m</td>\n",
       "      <td>online</td>\n",
       "      <td>10/24/23 16:19</td>\n",
       "      <td>malware_download</td>\n",
       "      <td>elf,Mozi</td>\n",
       "      <td>https://urlhaus.abuse.ch/url/2724907/</td>\n",
       "      <td>lrz_urlhaus</td>\n",
       "    </tr>\n",
       "    <tr>\n",
       "      <th>1</th>\n",
       "      <td>2724902</td>\n",
       "      <td>10/24/23 15:55</td>\n",
       "      <td>https://www.dropbox.com/scl/fi/y1zf9rt5n2guy0r...</td>\n",
       "      <td>online</td>\n",
       "      <td>10/24/23 16:12</td>\n",
       "      <td>malware_download</td>\n",
       "      <td>None</td>\n",
       "      <td>https://urlhaus.abuse.ch/url/2724902/</td>\n",
       "      <td>anonymous</td>\n",
       "    </tr>\n",
       "    <tr>\n",
       "      <th>2</th>\n",
       "      <td>2724903</td>\n",
       "      <td>10/24/23 15:55</td>\n",
       "      <td>https://www.dropbox.com/scl/fi/u008gv89ok6tj3u...</td>\n",
       "      <td>online</td>\n",
       "      <td>10/24/23 16:13</td>\n",
       "      <td>malware_download</td>\n",
       "      <td>None</td>\n",
       "      <td>https://urlhaus.abuse.ch/url/2724903/</td>\n",
       "      <td>anonymous</td>\n",
       "    </tr>\n",
       "    <tr>\n",
       "      <th>3</th>\n",
       "      <td>2724904</td>\n",
       "      <td>10/24/23 15:55</td>\n",
       "      <td>https://www.dropbox.com/scl/fi/96i5e2yrl5b383y...</td>\n",
       "      <td>online</td>\n",
       "      <td>10/24/23 15:55</td>\n",
       "      <td>malware_download</td>\n",
       "      <td>None</td>\n",
       "      <td>https://urlhaus.abuse.ch/url/2724904/</td>\n",
       "      <td>anonymous</td>\n",
       "    </tr>\n",
       "    <tr>\n",
       "      <th>4</th>\n",
       "      <td>2724905</td>\n",
       "      <td>10/24/23 15:55</td>\n",
       "      <td>https://www.dropbox.com/scl/fi/g362v2hcsb1kly2...</td>\n",
       "      <td>online</td>\n",
       "      <td>10/24/23 15:55</td>\n",
       "      <td>malware_download</td>\n",
       "      <td>None</td>\n",
       "      <td>https://urlhaus.abuse.ch/url/2724905/</td>\n",
       "      <td>anonymous</td>\n",
       "    </tr>\n",
       "  </tbody>\n",
       "</table>\n",
       "</div>\n",
       "    <div class=\"colab-df-buttons\">\n",
       "\n",
       "  <div class=\"colab-df-container\">\n",
       "    <button class=\"colab-df-convert\" onclick=\"convertToInteractive('df-0d736342-42df-42a0-be84-1490dc573992')\"\n",
       "            title=\"Convert this dataframe to an interactive table.\"\n",
       "            style=\"display:none;\">\n",
       "\n",
       "  <svg xmlns=\"http://www.w3.org/2000/svg\" height=\"24px\" viewBox=\"0 -960 960 960\">\n",
       "    <path d=\"M120-120v-720h720v720H120Zm60-500h600v-160H180v160Zm220 220h160v-160H400v160Zm0 220h160v-160H400v160ZM180-400h160v-160H180v160Zm440 0h160v-160H620v160ZM180-180h160v-160H180v160Zm440 0h160v-160H620v160Z\"/>\n",
       "  </svg>\n",
       "    </button>\n",
       "\n",
       "  <style>\n",
       "    .colab-df-container {\n",
       "      display:flex;\n",
       "      gap: 12px;\n",
       "    }\n",
       "\n",
       "    .colab-df-convert {\n",
       "      background-color: #E8F0FE;\n",
       "      border: none;\n",
       "      border-radius: 50%;\n",
       "      cursor: pointer;\n",
       "      display: none;\n",
       "      fill: #1967D2;\n",
       "      height: 32px;\n",
       "      padding: 0 0 0 0;\n",
       "      width: 32px;\n",
       "    }\n",
       "\n",
       "    .colab-df-convert:hover {\n",
       "      background-color: #E2EBFA;\n",
       "      box-shadow: 0px 1px 2px rgba(60, 64, 67, 0.3), 0px 1px 3px 1px rgba(60, 64, 67, 0.15);\n",
       "      fill: #174EA6;\n",
       "    }\n",
       "\n",
       "    .colab-df-buttons div {\n",
       "      margin-bottom: 4px;\n",
       "    }\n",
       "\n",
       "    [theme=dark] .colab-df-convert {\n",
       "      background-color: #3B4455;\n",
       "      fill: #D2E3FC;\n",
       "    }\n",
       "\n",
       "    [theme=dark] .colab-df-convert:hover {\n",
       "      background-color: #434B5C;\n",
       "      box-shadow: 0px 1px 3px 1px rgba(0, 0, 0, 0.15);\n",
       "      filter: drop-shadow(0px 1px 2px rgba(0, 0, 0, 0.3));\n",
       "      fill: #FFFFFF;\n",
       "    }\n",
       "  </style>\n",
       "\n",
       "    <script>\n",
       "      const buttonEl =\n",
       "        document.querySelector('#df-0d736342-42df-42a0-be84-1490dc573992 button.colab-df-convert');\n",
       "      buttonEl.style.display =\n",
       "        google.colab.kernel.accessAllowed ? 'block' : 'none';\n",
       "\n",
       "      async function convertToInteractive(key) {\n",
       "        const element = document.querySelector('#df-0d736342-42df-42a0-be84-1490dc573992');\n",
       "        const dataTable =\n",
       "          await google.colab.kernel.invokeFunction('convertToInteractive',\n",
       "                                                    [key], {});\n",
       "        if (!dataTable) return;\n",
       "\n",
       "        const docLinkHtml = 'Like what you see? Visit the ' +\n",
       "          '<a target=\"_blank\" href=https://colab.research.google.com/notebooks/data_table.ipynb>data table notebook</a>'\n",
       "          + ' to learn more about interactive tables.';\n",
       "        element.innerHTML = '';\n",
       "        dataTable['output_type'] = 'display_data';\n",
       "        await google.colab.output.renderOutput(dataTable, element);\n",
       "        const docLink = document.createElement('div');\n",
       "        docLink.innerHTML = docLinkHtml;\n",
       "        element.appendChild(docLink);\n",
       "      }\n",
       "    </script>\n",
       "  </div>\n",
       "\n",
       "\n",
       "<div id=\"df-5270e59c-1c9e-4950-b974-835097f195e6\">\n",
       "  <button class=\"colab-df-quickchart\" onclick=\"quickchart('df-5270e59c-1c9e-4950-b974-835097f195e6')\"\n",
       "            title=\"Suggest charts\"\n",
       "            style=\"display:none;\">\n",
       "\n",
       "<svg xmlns=\"http://www.w3.org/2000/svg\" height=\"24px\"viewBox=\"0 0 24 24\"\n",
       "     width=\"24px\">\n",
       "    <g>\n",
       "        <path d=\"M19 3H5c-1.1 0-2 .9-2 2v14c0 1.1.9 2 2 2h14c1.1 0 2-.9 2-2V5c0-1.1-.9-2-2-2zM9 17H7v-7h2v7zm4 0h-2V7h2v10zm4 0h-2v-4h2v4z\"/>\n",
       "    </g>\n",
       "</svg>\n",
       "  </button>\n",
       "\n",
       "<style>\n",
       "  .colab-df-quickchart {\n",
       "      --bg-color: #E8F0FE;\n",
       "      --fill-color: #1967D2;\n",
       "      --hover-bg-color: #E2EBFA;\n",
       "      --hover-fill-color: #174EA6;\n",
       "      --disabled-fill-color: #AAA;\n",
       "      --disabled-bg-color: #DDD;\n",
       "  }\n",
       "\n",
       "  [theme=dark] .colab-df-quickchart {\n",
       "      --bg-color: #3B4455;\n",
       "      --fill-color: #D2E3FC;\n",
       "      --hover-bg-color: #434B5C;\n",
       "      --hover-fill-color: #FFFFFF;\n",
       "      --disabled-bg-color: #3B4455;\n",
       "      --disabled-fill-color: #666;\n",
       "  }\n",
       "\n",
       "  .colab-df-quickchart {\n",
       "    background-color: var(--bg-color);\n",
       "    border: none;\n",
       "    border-radius: 50%;\n",
       "    cursor: pointer;\n",
       "    display: none;\n",
       "    fill: var(--fill-color);\n",
       "    height: 32px;\n",
       "    padding: 0;\n",
       "    width: 32px;\n",
       "  }\n",
       "\n",
       "  .colab-df-quickchart:hover {\n",
       "    background-color: var(--hover-bg-color);\n",
       "    box-shadow: 0 1px 2px rgba(60, 64, 67, 0.3), 0 1px 3px 1px rgba(60, 64, 67, 0.15);\n",
       "    fill: var(--button-hover-fill-color);\n",
       "  }\n",
       "\n",
       "  .colab-df-quickchart-complete:disabled,\n",
       "  .colab-df-quickchart-complete:disabled:hover {\n",
       "    background-color: var(--disabled-bg-color);\n",
       "    fill: var(--disabled-fill-color);\n",
       "    box-shadow: none;\n",
       "  }\n",
       "\n",
       "  .colab-df-spinner {\n",
       "    border: 2px solid var(--fill-color);\n",
       "    border-color: transparent;\n",
       "    border-bottom-color: var(--fill-color);\n",
       "    animation:\n",
       "      spin 1s steps(1) infinite;\n",
       "  }\n",
       "\n",
       "  @keyframes spin {\n",
       "    0% {\n",
       "      border-color: transparent;\n",
       "      border-bottom-color: var(--fill-color);\n",
       "      border-left-color: var(--fill-color);\n",
       "    }\n",
       "    20% {\n",
       "      border-color: transparent;\n",
       "      border-left-color: var(--fill-color);\n",
       "      border-top-color: var(--fill-color);\n",
       "    }\n",
       "    30% {\n",
       "      border-color: transparent;\n",
       "      border-left-color: var(--fill-color);\n",
       "      border-top-color: var(--fill-color);\n",
       "      border-right-color: var(--fill-color);\n",
       "    }\n",
       "    40% {\n",
       "      border-color: transparent;\n",
       "      border-right-color: var(--fill-color);\n",
       "      border-top-color: var(--fill-color);\n",
       "    }\n",
       "    60% {\n",
       "      border-color: transparent;\n",
       "      border-right-color: var(--fill-color);\n",
       "    }\n",
       "    80% {\n",
       "      border-color: transparent;\n",
       "      border-right-color: var(--fill-color);\n",
       "      border-bottom-color: var(--fill-color);\n",
       "    }\n",
       "    90% {\n",
       "      border-color: transparent;\n",
       "      border-bottom-color: var(--fill-color);\n",
       "    }\n",
       "  }\n",
       "</style>\n",
       "\n",
       "  <script>\n",
       "    async function quickchart(key) {\n",
       "      const quickchartButtonEl =\n",
       "        document.querySelector('#' + key + ' button');\n",
       "      quickchartButtonEl.disabled = true;  // To prevent multiple clicks.\n",
       "      quickchartButtonEl.classList.add('colab-df-spinner');\n",
       "      try {\n",
       "        const charts = await google.colab.kernel.invokeFunction(\n",
       "            'suggestCharts', [key], {});\n",
       "      } catch (error) {\n",
       "        console.error('Error during call to suggestCharts:', error);\n",
       "      }\n",
       "      quickchartButtonEl.classList.remove('colab-df-spinner');\n",
       "      quickchartButtonEl.classList.add('colab-df-quickchart-complete');\n",
       "    }\n",
       "    (() => {\n",
       "      let quickchartButtonEl =\n",
       "        document.querySelector('#df-5270e59c-1c9e-4950-b974-835097f195e6 button');\n",
       "      quickchartButtonEl.style.display =\n",
       "        google.colab.kernel.accessAllowed ? 'block' : 'none';\n",
       "    })();\n",
       "  </script>\n",
       "</div>\n",
       "    </div>\n",
       "  </div>\n"
      ]
     },
     "metadata": {},
     "execution_count": 43
    }
   ]
  },
  {
   "cell_type": "code",
   "metadata": {
    "colab": {
     "base_uri": "https://localhost:8080/"
    },
    "id": "dfwCW73w9xE7",
    "outputId": "7ebc0688-2165-4310-b455-061a1a50bef4"
   },
   "source": [
    "phish=phish.head(22800)\n",
    "phish.shape"
   ],
   "execution_count": null,
   "outputs": [
    {
     "output_type": "execute_result",
     "data": {
      "text/plain": [
       "(4078, 9)"
      ]
     },
     "metadata": {},
     "execution_count": 44
    }
   ]
  },
  {
   "cell_type": "markdown",
   "metadata": {
    "id": "H2BU7PoFnGVb"
   },
   "source": [
    "## Lexical Features ⌨"
   ]
  },
  {
   "cell_type": "markdown",
   "metadata": {
    "id": "uFEL1wze3qkU"
   },
   "source": [
    "1.\t**havingIP**: - If IP address present in URL then the feature is set to 1 else set to 0. Most benign sites do not use IP addresses as an URL. Use of IP address in URL indicates that attacker is trying to steal sensitive information or s means to confuse users so they often use."
   ]
  },
  {
   "cell_type": "code",
   "metadata": {
    "id": "_PYfHLKCdu-g"
   },
   "source": [
    "#check for IP in URL domain\n",
    "def havingIP(url):\n",
    "    #print(\"1->\",end=\" \")\n",
    "    regex=re.compile('.*\\d+\\.\\d+\\.\\d+\\.\\d+\\.*')\n",
    "    d=regex.match(url)\n",
    "    if d==None:\n",
    "        return 0\n",
    "    else:\n",
    "        return 1"
   ],
   "execution_count": null,
   "outputs": []
  },
  {
   "cell_type": "markdown",
   "metadata": {
    "id": "P7yVGIYv39al"
   },
   "source": [
    "2.\t**haveAtSign**: - If @ symbol present in URL then the feature is set to 1 else set to 0. attackers add special symbol @ in the URL leads the browser to ignore everything preceding the “@” symbol and the real address often follows the “@” symbol."
   ]
  },
  {
   "cell_type": "code",
   "metadata": {
    "id": "tazw29cKlBey"
   },
   "source": [
    "#Checks the presence of @ in URL (Have_At)\n",
    "def haveAtSign(url):\n",
    "  #print(\"2->\",end=\" \")\n",
    "  if \"@\" in url:\n",
    "    at = 1\n",
    "  else:\n",
    "    at = 0\n",
    "  return at"
   ],
   "execution_count": null,
   "outputs": []
  },
  {
   "cell_type": "markdown",
   "metadata": {
    "id": "9yH5Z5Wo4Lov"
   },
   "source": [
    "3.\t**countDot**: - Malicious URLs have many dots in the URL. For example, http://shop.fun.amazon.phishing.com, in this URL phishing.com is an actual domain name, whereas use of “amazon” word is to trick users to click on it. So, this function is used to count the number of dots in the URL."
   ]
  },
  {
   "cell_type": "code",
   "metadata": {
    "id": "yDmfjZ2llHvg"
   },
   "source": [
    "# count number of dots\n",
    "def countDot(url):\n",
    "  #print(\"3->\",end=\" \")\n",
    "  return url.count('.')"
   ],
   "execution_count": null,
   "outputs": []
  },
  {
   "cell_type": "markdown",
   "metadata": {
    "id": "ccB84DVZ4WKy"
   },
   "source": [
    "4.\t**prefixSuffix**:- Checking the presence of '-' in the domain part of URL. The dash symbol is rarely used in legitimate URLs. Phishers tend to add prefixes or suffixes separated by (-) to the domain name so that users feel that they are dealing with a legitimate webpage.If the URL has the ‘-' symbol in the domain part of the URL, the value assigned to this feature is 1 else 0"
   ]
  },
  {
   "cell_type": "code",
   "metadata": {
    "id": "U9Tqw4_slNnp"
   },
   "source": [
    "def prefixSuffix(url):\n",
    "    #print(\"4->\",end=\" \")\n",
    "    if '-' in urlparse(url).netloc:\n",
    "        return 1\n",
    "    else:\n",
    "        return 0"
   ],
   "execution_count": null,
   "outputs": []
  },
  {
   "cell_type": "markdown",
   "metadata": {
    "id": "wzL6BCOq4sao"
   },
   "source": [
    "5.\t**redirection**: If “//” present in the URL path then the feature is set to 1 else to 0. The existence of “//” within the URL path means that the user will be redirected to another website."
   ]
  },
  {
   "cell_type": "code",
   "metadata": {
    "id": "CGbITTDFlRUi"
   },
   "source": [
    "# Checking for redirection '//' in the url (Redirection)\n",
    "def redirection(url):\n",
    "  #print(\"5->\",end=\" \")\n",
    "  pos = url.rfind('//')\n",
    "  if pos < 8:\n",
    "      return 0\n",
    "  else:\n",
    "    return 1"
   ],
   "execution_count": null,
   "outputs": []
  },
  {
   "cell_type": "markdown",
   "metadata": {
    "id": "-G-eZXFM45lY"
   },
   "source": [
    "6.\t**httpDomain**: If HTTPS token present in URL then the feature is set to 1 else to 0. Attackers may add the “HTTPS” token to the domain part of a URL in order to trick users. For example, http://https-www-paypal-it-mpp-home.soft-hair.com."
   ]
  },
  {
   "cell_type": "code",
   "metadata": {
    "id": "B0BDTUSSlSy9"
   },
   "source": [
    "# Existence of “HTTPS” Token in the Domain Part of the URL (https_Domain)\n",
    "def httpDomain(url):\n",
    "  #print(\"6->\",end=\" \")\n",
    "  domain = urlparse(url).netloc\n",
    "  if 'https' in domain:\n",
    "    return 1\n",
    "  else:\n",
    "    return 0"
   ],
   "execution_count": null,
   "outputs": []
  },
  {
   "cell_type": "markdown",
   "metadata": {
    "id": "KGIzonQB5WSN"
   },
   "source": [
    "7.\t**tinyURL**:TinyURL service allows attackers to hide long malicious URL by making it short. The goal is to redirect user to phishing websites. If the URL is crafted using shortening services (like bit.ly) then feature is set to 1 else 0"
   ]
  },
  {
   "cell_type": "code",
   "metadata": {
    "id": "vg-PcF4qgryu"
   },
   "source": [
    "#listing shortening services\n",
    "shortening_services = r\"bit\\.ly|goo\\.gl|shorte\\.st|go2l\\.ink|x\\.co|ow\\.ly|t\\.co|tinyurl|tr\\.im|is\\.gd|cli\\.gs|\" \\\n",
    "                      r\"yfrog\\.com|migre\\.me|ff\\.im|tiny\\.cc|url4\\.eu|twit\\.ac|su\\.pr|twurl\\.nl|snipurl\\.com|\" \\\n",
    "                      r\"short\\.to|BudURL\\.com|ping\\.fm|post\\.ly|Just\\.as|bkite\\.com|snipr\\.com|fic\\.kr|loopt\\.us|\" \\\n",
    "                      r\"doiop\\.com|short\\.ie|kl\\.am|wp\\.me|rubyurl\\.com|om\\.ly|to\\.ly|bit\\.do|t\\.co|lnkd\\.in|db\\.tt|\" \\\n",
    "                      r\"qr\\.ae|adf\\.ly|goo\\.gl|bitly\\.com|cur\\.lv|tinyurl\\.com|ow\\.ly|bit\\.ly|ity\\.im|q\\.gs|is\\.gd|\" \\\n",
    "                      r\"po\\.st|bc\\.vc|twitthis\\.com|u\\.to|j\\.mp|buzurl\\.com|cutt\\.us|u\\.bb|yourls\\.org|x\\.co|\" \\\n",
    "                      r\"prettylinkpro\\.com|scrnch\\.me|filoops\\.info|vzturl\\.com|qr\\.net|1url\\.com|tweez\\.me|v\\.gd|\" \\\n",
    "                      r\"tr\\.im|link\\.zip\\.net\"\n",
    "\n",
    "#Checking for Shortening Services in URL (Tiny_URL)\n",
    "def tinyURL(url):\n",
    "    #print(\"7->\",end=\" \")\n",
    "    match=re.search(shortening_services,url)\n",
    "    if match:\n",
    "      return 1\n",
    "    else:\n",
    "        return 0\n"
   ],
   "execution_count": null,
   "outputs": []
  },
  {
   "cell_type": "markdown",
   "metadata": {
    "id": "W-QyQScg5cdx"
   },
   "source": [
    "8.\t**getLength**: Used to calculate the length of the URL. It is observed safe URLs are often shorter than malicious URLs."
   ]
  },
  {
   "cell_type": "code",
   "metadata": {
    "id": "2ixG45UelKif"
   },
   "source": [
    "# Finding the length of URL and categorizing (URL_Length)\n",
    "def getLength(url):\n",
    "  #print(\"8->\",end=\" \")\n",
    "  return len(url)"
   ],
   "execution_count": null,
   "outputs": []
  },
  {
   "cell_type": "markdown",
   "metadata": {
    "id": "UK-rzapI5sxB"
   },
   "source": [
    "9. **getSlash**:- This function returns the number of slashes in the URL. Higher number of slashes indicate higher chances of URL being dangerous."
   ]
  },
  {
   "cell_type": "code",
   "metadata": {
    "id": "kR4HK60Qmxtw"
   },
   "source": [
    "\n",
    "# number of '/' in URL\n",
    "def getSlash(url):\n",
    "  #print(\"9->\",end=\" \")\n",
    "  s = urlparse(url).path.split('/')\n",
    "  count = 0\n",
    "  for j in range(len(s)):\n",
    "    if len(s[j]) != 0:\n",
    "      count += 1\n",
    "  return count"
   ],
   "execution_count": null,
   "outputs": []
  },
  {
   "cell_type": "markdown",
   "metadata": {
    "id": "1AmtAGpk2rRC"
   },
   "source": [
    "10. **numDigits**:- This function returns the number of digits in the URL. Higher number of digits increase the chances of URL being dangerous."
   ]
  },
  {
   "cell_type": "code",
   "metadata": {
    "id": "fRcphdHkmzNG"
   },
   "source": [
    "def numDigits(url):\n",
    "        #print(\"10->\",end=\" \")\n",
    "        digits = [i for i in url if i.isdigit()]\n",
    "        return len(digits)"
   ],
   "execution_count": null,
   "outputs": []
  },
  {
   "cell_type": "markdown",
   "metadata": {
    "id": "6phAFIWd2zSt"
   },
   "source": [
    "11. **numFragments**: This function returns the number of “#” in the URL"
   ]
  },
  {
   "cell_type": "code",
   "metadata": {
    "id": "8K8pqK6im5cY"
   },
   "source": [
    "def numFragments(url):\n",
    "        #print(\"11->\",end=\" \")\n",
    "        fragments = url.split('#')\n",
    "        return len(fragments) - 1"
   ],
   "execution_count": null,
   "outputs": []
  },
  {
   "cell_type": "markdown",
   "metadata": {
    "id": "dCvDWCxk241z"
   },
   "source": [
    "12. **numSubDomains**: This function splits the URL returns the number of subdomains in it"
   ]
  },
  {
   "cell_type": "code",
   "metadata": {
    "id": "fYBOsIuom4sZ"
   },
   "source": [
    "def numSubDomains(url):\n",
    "        #print(\"12->\",end=\" \")\n",
    "        subdomains = url.split('http')[-1].split('//')[-1].split('/')\n",
    "        return len(subdomains)-1"
   ],
   "execution_count": null,
   "outputs": []
  },
  {
   "cell_type": "markdown",
   "metadata": {
    "id": "-WEYDNko2_h-"
   },
   "source": [
    "13. **domainExtension**: This function returns the domain extension found at the end of the URL."
   ]
  },
  {
   "cell_type": "code",
   "metadata": {
    "id": "kW_9YNrem3kq"
   },
   "source": [
    "def domainExtension(url):\n",
    "        #print(\"13->\",end=\" \")\n",
    "        ext = url.split('.')[-1].split('/')[0]\n",
    "        return ext\n"
   ],
   "execution_count": null,
   "outputs": []
  },
  {
   "cell_type": "markdown",
   "metadata": {
    "id": "EaLDr_283GPe"
   },
   "source": [
    "14. **shannon_entropy**: This function calculates the Shannon Entropy(amount of info present) of a string"
   ]
  },
  {
   "cell_type": "code",
   "metadata": {
    "id": "xtMYb2CdlW6H"
   },
   "source": [
    "# Function for calcuating Shannon Entropy of a string\n",
    "def shannon_entropy(string):\n",
    "    counts=Counter(string)\n",
    "    frequencies=((i / len(string)) for i in counts.values())\n",
    "    return -sum(f*log(f,2) for f in frequencies)\n",
    "\n",
    "# Calculating Shannon Entropy of URL\n",
    "def url_shannon_entropy(url):\n",
    "    #print(\"14->\",end=\" \")\n",
    "    return shannon_entropy(url)\n",
    "\n",
    "# Calculating Shannon Entropy of Domain\n",
    "def domain_shannon_entropy(url):\n",
    "    #print(\"15->\",end=\" \")\n",
    "    domain = urlparse(url).netloc\n",
    "    return shannon_entropy(domain)\n",
    "\n",
    "# Calculating Shannon Entropy of Path\n",
    "def path_shannon_entropy(url):\n",
    "    #print(\"16->\",end=\" \")\n",
    "    path = urlparse(url).path\n",
    "    return shannon_entropy(path)\n",
    "\n",
    "# Calculating Shannon Entropy of Query\n",
    "def query_shannon_entropy(url):\n",
    "    #print(\"17->\",end=\" \")\n",
    "    query= urlparse(url).query\n",
    "    return shannon_entropy(query)\n",
    "\n",
    "# Calculating Shannon Entropy of Path+Query\n",
    "def query_path_shannon_entropy(url):\n",
    "    #print(\"18->\",end=\" \")\n",
    "    pathquery= urlparse(url).path+'?'+urlparse(url).query\n",
    "    return shannon_entropy(pathquery)"
   ],
   "execution_count": null,
   "outputs": []
  },
  {
   "cell_type": "markdown",
   "metadata": {
    "id": "OI168c2k3SWm"
   },
   "source": [
    "15. **suspiciousExtension**:  If a suspicious extension is present in the URL then the feature is set to 1 else set to 0. Extensions like '.exe','.pif','.application','.gadget' are suspicious extensions. Suspicious extensions are often found in malicious URLs.\n"
   ]
  },
  {
   "cell_type": "code",
   "metadata": {
    "id": "mH4LYh8ylZwc"
   },
   "source": [
    "def suspiciousExtension(url):\n",
    "    #print(\"19->\",end=\" \")\n",
    "    dangerous_extensions=['.exe','.pif','.application','.gadget',\n",
    "                          '.msi','.msp','.scr','.hta','.cpl','.msc','.jar',\n",
    "                         '.bat','.cmd','.vb','.vbs','.vbe','.js','.jse'\n",
    "                         ,'.ws','.wsf','.wsc','.wsh','.ps1','.ps1xml','.ps2'\n",
    "                         ,'.ps2xml','.psc1','.psc2','.msh','.scf','.lnk',\n",
    "                         '.inf','.reg','htm','.hta','.sfx','.dll','.tmp','.py']\n",
    "    for extension in dangerous_extensions:\n",
    "        if re.search(extension,url):\n",
    "            return 1\n",
    "    return 0"
   ],
   "execution_count": null,
   "outputs": []
  },
  {
   "cell_type": "markdown",
   "metadata": {
    "id": "TyItmvjU3dvs"
   },
   "source": [
    "16. **spacePresent**: If “%20” is present in the URL then the feature is set to 1 else to 0. Benign URLs generally do not have \"%20\" in their URLs."
   ]
  },
  {
   "cell_type": "code",
   "metadata": {
    "id": "hRWeQinclqaw"
   },
   "source": [
    "# Checking if %20 percent in the URL\n",
    "def spacePresent(url):\n",
    "    #print(\"20->\",end=\" \")\n",
    "    if re.search('%20',url):\n",
    "        return 1\n",
    "    else:\n",
    "        return 0\n"
   ],
   "execution_count": null,
   "outputs": []
  },
  {
   "cell_type": "markdown",
   "metadata": {
    "id": "VQihPvAj3msL"
   },
   "source": [
    "17. **digitToLetterRatio**: This function calculates the digit to letter ratio of the URL. Higher number of digits present in URL tends to increase the ratio. Benign URLs usually have a smaller ratio.\n"
   ]
  },
  {
   "cell_type": "code",
   "metadata": {
    "id": "9JzppqogluAc"
   },
   "source": [
    "# Calculating Digit to Letter ratio\n",
    "def digitToLetterRatio(url):\n",
    "    #print(\"21->\",end=\" \")\n",
    "    d=0\n",
    "    l=0\n",
    "    for c in url:\n",
    "        if c.isdigit():\n",
    "            d=d+1\n",
    "        elif c.isalpha():\n",
    "            l=l+1\n",
    "        else:\n",
    "            pass\n",
    "    return(d/l)\n"
   ],
   "execution_count": null,
   "outputs": []
  },
  {
   "cell_type": "markdown",
   "metadata": {
    "id": "kAJ5foXt3sbr"
   },
   "source": [
    "18. **specialCharacters**: This function counts the number of special characters in the URL. Dangerous URLs tend to have higher number of special characters."
   ]
  },
  {
   "cell_type": "code",
   "metadata": {
    "id": "IAusLMqglvRb"
   },
   "source": [
    "# Count number of special characters in the URL\n",
    "def specialCharacters(url):\n",
    "    #print(\"22->\",end=\" \")\n",
    "    special_char= 0\n",
    "    for c in url:\n",
    "        if (c.isalpha()):\n",
    "            continue\n",
    "        elif (c.isdigit()):\n",
    "            continue\n",
    "        else:\n",
    "            special_char += 1\n",
    "    return special_char\n"
   ],
   "execution_count": null,
   "outputs": []
  },
  {
   "cell_type": "markdown",
   "metadata": {
    "id": "C7M8Zz0f3yDM"
   },
   "source": [
    "19. **suspiciousWords**: If suspicious words are present in the URL then the feature is set to 1 else set to 0. Words like 'gift','promo','paypal' are security sensitive words or brand names. Using spoofed URLs is common in phishing attacks. Victims tend to get deceived by the brand names and security sensitive words in the URL. Reference to list of words: Tupsamudre H., Singh A.K., Lodha S. (2019) Everything Is in the Name – A URL Based Approach for Phishing Detection. In: Dolev S., Hendler D., Lodha S., Yung M. (eds) Cyber Security Cryptography and Machine Learning. CSCML 2019. Lecture Notes in Computer Science, vol 11527. Springer, Cham. https://doi.org/10.1007/978-3-030-20951-3_21\n"
   ]
  },
  {
   "cell_type": "code",
   "metadata": {
    "id": "T0DaLOgVlwfw"
   },
   "source": [
    "# Check if suspicious words - (security sensitive words/ brand names) present in the URL\n",
    "def suspiciousWords(url):\n",
    "    #print(\"23->\",end=\" \")\n",
    "\n",
    "    suspicious_words=['paypal','ali','safety','verify','google','netflix','instagram','icici','hdfc', 'apple','facebook','amazon','porn','gamble',\n",
    "                      'award','limited','securewebsession','confirmation','signin','protection','access','redirectme','secure',\n",
    "                      'recovery', 'verify','limited','secure','web',      'session',      'confirmation', 'page',      'sign',      'team',      'access',      'protection',      'active',\n",
    "                      'manage',      'redirectme',      'secure',      'customer',      'account',\n",
    "                      'client',      'information',      'recovery',      'verify',      'secured',\n",
    "                      'business',      'refund',      'help',      'safe',      'bank',      'event',\n",
    "                      'promo',      'webservis',      'giveaway',      'card',      'webspace',      'user',\n",
    "                      'notify',      'servico',      'store',      'device',      'payment',      'webnode',\n",
    "                      'drive',      'shop',      'gold',      'violation',      'random',      'upgrade',\n",
    "                      'webapp',      'dispute',      'setting',      'banking',      'activity',      'startup',\n",
    "                      'review',      'email',      'approval',      'admin',      'browser',      'billing',\n",
    "                      'advert',      'protect',      'case',      'temporary',      'alert',      'portal',\n",
    "                      'login',      'servehttp',      'center',      'client',      'restore',      'secure',\n",
    "                      'blob',      'smart',      'fortune',      'gift',      'server',      'security',      'page',\n",
    "                      'confirm',      'notification',      'core',      'host',      'central',      'service',\n",
    "                      'account',      'servise',      'support',      'apps',      'form',      'info',      'compute',\n",
    "                      'verification',      'check',      'storage',      'setting',      'digital',      'update',\n",
    "                      'token',      'required',      'resolution',      'ebay',      'webscr',      'free',      'lucky',      'bonus'\n",
    "     ]\n",
    "\n",
    "    for word in suspicious_words:\n",
    "        if re.search(word,url):\n",
    "            return 1\n",
    "    return 0"
   ],
   "execution_count": null,
   "outputs": []
  },
  {
   "cell_type": "markdown",
   "metadata": {
    "id": "MnM0NKeZqCS-"
   },
   "source": [
    "## WhoIs Based Features"
   ]
  },
  {
   "cell_type": "markdown",
   "metadata": {
    "id": "36U3liCX35Xf"
   },
   "source": [
    "20. **domainAge**: The domainAge function refers to the amount of time during which a domain name has existed. It is how old a domain name is. An old domain is less likely to be dangerous and more trustworthy."
   ]
  },
  {
   "cell_type": "code",
   "metadata": {
    "id": "MjOkdERVm1fe"
   },
   "source": [
    "def domainAge(domain_name):\n",
    "  return 1\n",
    "  #print(\"25->\",end=\" \")\n",
    "  creation_date = domain_name.creation_date\n",
    "  expiration_date = domain_name.expiration_date\n",
    "  if (isinstance(creation_date,str) or isinstance(expiration_date,str)):\n",
    "    try:\n",
    "     # print(\"hi1\")\n",
    "      creation_date = datetime.strptime(creation_date,'%Y-%m-%d')\n",
    "      expiration_date = datetime.strptime(expiration_date,\"%Y-%m-%d\")\n",
    "    except:\n",
    "      return 1\n",
    "  if ((expiration_date is None) or (creation_date is None)):\n",
    "      #print(\"hi2\")\n",
    "      return 1\n",
    "  elif ((type(expiration_date) is list) and (type(creation_date) is list)):\n",
    "        ageofdomain = abs((expiration_date[0] - creation_date[0]).days)\n",
    "  elif (type(creation_date) is list):\n",
    "        ageofdomain = abs((expiration_date - creation_date[0]).days)\n",
    "  elif  (type(expiration_date) is list):\n",
    "        ageofdomain = abs((expiration_date[0] - creation_date).days)\n",
    "  else:\n",
    "        ageofdomain = abs((expiration_date - creation_date).days)\n",
    "\n",
    "  return (ageofdomain/365.25)"
   ],
   "execution_count": null,
   "outputs": []
  },
  {
   "cell_type": "markdown",
   "metadata": {
    "id": "PK86E9aT4ACH"
   },
   "source": [
    "21. **country**: This function returns the country of the domain of the URL."
   ]
  },
  {
   "cell_type": "code",
   "metadata": {
    "id": "Pz7KlzR3m0qD"
   },
   "source": [
    "def country(domain_name):\n",
    "  #print(\"26->\",end=\" \")\n",
    "  return domain_name.country\n"
   ],
   "execution_count": null,
   "outputs": []
  },
  {
   "cell_type": "markdown",
   "metadata": {
    "id": "Fc8rAGF8n1ds"
   },
   "source": [
    "## JavaScript based Features"
   ]
  },
  {
   "cell_type": "markdown",
   "metadata": {
    "id": "c9NtYpN54FAt"
   },
   "source": [
    "22. **imgCount**: This function counts the number of images in the content of the URL."
   ]
  },
  {
   "cell_type": "code",
   "metadata": {
    "id": "oPMhkavClzpF"
   },
   "source": [
    "# Get number of images\n",
    "def imgCount(response):\n",
    "    #print(\"24->\",end=\" \")\n",
    "    try:\n",
    "        soup = BeautifulSoup(response.content)\n",
    "    except:\n",
    "        return None\n",
    "    return len(soup.find_all('img'))"
   ],
   "execution_count": null,
   "outputs": []
  },
  {
   "cell_type": "markdown",
   "metadata": {
    "id": "WCz-zcht4Nbj"
   },
   "source": [
    "23. **iframe**: -  If “<iframe” or “frameBorder=\"0\"” is present in the URL then the feature is set to 1 else to 0. Phishers can make use of the “iframe” tag and make it invisible i.e. without frame borders. Since the border of the inserted webpage is invisible, user seems that the inserted web page is also part of the main web page and can enter sensitive information."
   ]
  },
  {
   "cell_type": "code",
   "metadata": {
    "id": "9YhGuKmJqKeF"
   },
   "source": [
    "def iframe(response):\n",
    "  #print(\"27->\",end=\" \")\n",
    "  if response == \"\":\n",
    "      return 0\n",
    "  else:\n",
    "      #print()\n",
    "      if \"<iframe \" in response.text or 'frameBorder=\"0\"' in response.text:\n",
    "          return 1\n",
    "      else:\n",
    "          return 0"
   ],
   "execution_count": null,
   "outputs": []
  },
  {
   "cell_type": "markdown",
   "metadata": {
    "id": "7Acf4gNJ4Ttd"
   },
   "source": [
    "24. **mouseOver**:- Checks the effect of mouse over on status bar"
   ]
  },
  {
   "cell_type": "code",
   "metadata": {
    "id": "BXEiBaxIqKYM"
   },
   "source": [
    "#Checks the effect of mouse over on status bar (Mouse_Over)\n",
    "def mouseOver(response):\n",
    "  #print(\"28->\",end=\" \")\n",
    "  if response == \"\" :\n",
    "    return 1\n",
    "  else:\n",
    "    if re.findall(\"<script>.+onmouseover.+</script>\", response.text):\n",
    "      return 1\n",
    "    else:\n",
    "      return 0"
   ],
   "execution_count": null,
   "outputs": []
  },
  {
   "cell_type": "markdown",
   "metadata": {
    "id": "WR8SHQJhqaVy"
   },
   "source": [
    "Driver Script For the above functions"
   ]
  },
  {
   "cell_type": "code",
   "metadata": {
    "id": "ZQ2nRRlpqJ2y"
   },
   "source": [
    "def featureExtraction(url,label):\n",
    "  dns=0\n",
    "  features = []\n",
    "  #Lexical Feature\n",
    "  features.append(havingIP(url))\n",
    "  features.append(haveAtSign(url))\n",
    "  features.append(countDot(url))\n",
    "  features.append(prefixSuffix(url))\n",
    "  features.append(redirection(url))\n",
    "  features.append(httpDomain(url))\n",
    "  features.append(tinyURL(url))\n",
    "  features.append(getLength(url))\n",
    "  features.append(getSlash(url))\n",
    "  features.append(numDigits(url))\n",
    "  features.append(numFragments(url))\n",
    "  features.append(numSubDomains(url))\n",
    "  features.append(domainExtension(url))\n",
    "\n",
    "  features.append(url_shannon_entropy(url))\n",
    "  features.append(domain_shannon_entropy(url))\n",
    "  features.append(path_shannon_entropy(url))\n",
    "  features.append(query_shannon_entropy(url))\n",
    "  features.append(query_path_shannon_entropy(url))\n",
    "  features.append(suspiciousExtension(url))\n",
    "  features.append(spacePresent(url))\n",
    "  features.append(digitToLetterRatio(url))\n",
    "  features.append(specialCharacters(url))\n",
    "  features.append(suspiciousWords(url))\n",
    "\n",
    "\n",
    "  #features.append(imgCount(url))\n",
    "\n",
    "  #Whois Based\n",
    "  try:\n",
    "    domain_name = whois.whois(urlparse(url).netloc,timeout=1)\n",
    "  except:\n",
    "    dns = 1\n",
    "\n",
    "  features.append(0 if (dns == 1 or domain_name.domain_name==None)  else domainAge(domain_name))\n",
    "\n",
    "  features.append(\"None\" if (dns == 1 or domain_name.domain_name==None)  else country(domain_name))\n",
    "\n",
    "# HTML & Javascript based features\n",
    "  try:\n",
    "    response = requests.get(url,timeout=1)\n",
    "  except:\n",
    "    response = \"\"\n",
    "  features.append(imgCount(response))\n",
    "  features.append(iframe(response))\n",
    "  features.append(mouseOver(response))\n",
    "  features.append(label)\n",
    "\n",
    "  return features"
   ],
   "execution_count": null,
   "outputs": []
  },
  {
   "cell_type": "code",
   "metadata": {
    "id": "tvpRUZq0avX8"
   },
   "source": [
    "\n",
    "phish_features = []\n",
    "label = 1\n",
    "progress_bar=tqdm(phish['url'])\n",
    "for i,url in enumerate(progress_bar):\n",
    "  if(i%1000==0):\n",
    "    name='drive/MyDrive/malTrack/p'+str(i)+'.pickle'\n",
    "    with open(name, 'wb') as f:\n",
    "      pickle.dump(phish_features, f)\n",
    "    #print(\"Url no\",i,\" \",url)\n",
    "\n",
    "  progress_bar.set_description(f\"Url no {i} {url}\")\n",
    "  phish_features.append(featureExtraction(url,label))\n"
   ],
   "execution_count": null,
   "outputs": []
  },
  {
   "cell_type": "markdown",
   "metadata": {
    "id": "Ilgd4Xzzq8CH"
   },
   "source": [
    "Saving The Extracted Features in CSV Format"
   ]
  },
  {
   "cell_type": "code",
   "source": [
    "from google.colab import drive\n",
    "drive.mount('/content/drive')"
   ],
   "metadata": {
    "id": "K_lrQe3WOFJM",
    "colab": {
     "base_uri": "https://localhost:8080/"
    },
    "outputId": "98a68483-b8cf-4c7e-c77f-eccfd1135346"
   },
   "execution_count": null,
   "outputs": [
    {
     "output_type": "stream",
     "name": "stdout",
     "text": [
      "Mounted at /content/drive\n"
     ]
    }
   ]
  },
  {
   "cell_type": "code",
   "metadata": {
    "id": "ZUx4rokizaNP"
   },
   "source": [
    "feature_names = ['havingIP', 'haveAtSign', 'countDot', 'prefixSuffix','redirection',\n",
    "                'httpDomain', 'tinyURL', 'getLength', 'getSlash','numDigit','numfragments','numsubdomain',\n",
    "                 'domainExt','URL_Shannon_Entropy','Domain_Shannon_Entropy','Path_Shannon_Entropy','Query_Shannon_Entropy',\n",
    "                 'QandP_Shannon_Entropy','Susp_ext','space preset','digitToLetter_ratio','Sp_Character','susp_words',\n",
    "                 'domainAge','domainCountry','num_Imag','iframe', 'Mouse_Over', 'Label',]\n",
    "\n",
    "phishing = pd.DataFrame(phish_features, columns= feature_names)\n",
    "phishing.to_csv('ExtractedFeaturesDataset/phish_Features_Final.csv')"
   ],
   "execution_count": null,
   "outputs": []
  },
  {
   "cell_type": "code",
   "metadata": {
    "id": "G8VPULsnD703"
   },
   "source": [
    "name='drive/MyDrive/malTrack/verified_phishing_online.pickle'\n",
    "with open(name, 'wb') as f:\n",
    "      pickle.dump(phish_features, f)"
   ],
   "execution_count": null,
   "outputs": []
  }
 ]
}
